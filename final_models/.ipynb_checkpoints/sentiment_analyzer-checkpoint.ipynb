{
 "cells": [
  {
   "cell_type": "code",
   "execution_count": 195,
   "metadata": {},
   "outputs": [],
   "source": [
    "def get_contractions():\n",
    "    contractions = { \n",
    "        \"ain't\": \"am not\",\n",
    "        \"aren't\": \"are not\",\n",
    "        \"can't\": \"cannot\",\n",
    "        \"can't've\": \"cannot have\",\n",
    "        \"'cause\": \"because\",\n",
    "        \"could've\": \"could have\",\n",
    "        \"couldn't\": \"could not\",\n",
    "        \"couldn't've\": \"could not have\",\n",
    "        \"didn't\": \"did not\",\n",
    "        \"doesn't\": \"does not\",\n",
    "        \"don't\": \"do not\",\n",
    "        \"hadn't\": \"had not\",\n",
    "        \"hadn't've\": \"had not have\",\n",
    "        \"hasn't\": \"has not\",\n",
    "        \"haven't\": \"have not\",\n",
    "        \"he'd\": \"he would\",\n",
    "        \"he'd've\": \"he would have\",\n",
    "        \"he'll\": \"he will\",\n",
    "        \"he's\": \"he is\",\n",
    "        \"how'd\": \"how did\",\n",
    "        \"how'll\": \"how will\",\n",
    "        \"how's\": \"how is\",\n",
    "        \"i'd\": \"i would\",\n",
    "        \"i'll\": \"i will\",\n",
    "        \"i'm\": \"i am\",\n",
    "        \"i've\": \"i have\",\n",
    "        \"isn't\": \"is not\",\n",
    "        \"it'd\": \"it would\",\n",
    "        \"it'll\": \"it will\",\n",
    "        \"it's\": \"it is\",\n",
    "        \"let's\": \"let us\",\n",
    "        \"ma'am\": \"madam\",\n",
    "        \"mayn't\": \"may not\",\n",
    "        \"might've\": \"might have\",\n",
    "        \"mightn't\": \"might not\",\n",
    "        \"must've\": \"must have\",\n",
    "        \"mustn't\": \"must not\",\n",
    "        \"needn't\": \"need not\",\n",
    "        \"oughtn't\": \"ought not\",\n",
    "        \"shan't\": \"shall not\",\n",
    "        \"sha'n't\": \"shall not\",\n",
    "        \"she'd\": \"she would\",\n",
    "        \"she'll\": \"she will\",\n",
    "        \"she's\": \"she is\",\n",
    "        \"should've\": \"should have\",\n",
    "        \"shouldn't\": \"should not\",\n",
    "        \"that'd\": \"that would\",\n",
    "        \"that's\": \"that is\",\n",
    "        \"there'd\": \"there had\",\n",
    "        \"there's\": \"there is\",\n",
    "        \"they'd\": \"they would\",\n",
    "        \"they'll\": \"they will\",\n",
    "        \"they're\": \"they are\",\n",
    "        \"they've\": \"they have\",\n",
    "        \"wasn't\": \"was not\",\n",
    "        \"we'd\": \"we would\",\n",
    "        \"we'll\": \"we will\",\n",
    "        \"we're\": \"we are\",\n",
    "        \"we've\": \"we have\",\n",
    "        \"weren't\": \"were not\",\n",
    "        \"what'll\": \"what will\",\n",
    "        \"what're\": \"what are\",\n",
    "        \"what's\": \"what is\",\n",
    "        \"what've\": \"what have\",\n",
    "        \"where'd\": \"where did\",\n",
    "        \"where's\": \"where is\",\n",
    "        \"who'll\": \"who will\",\n",
    "        \"who's\": \"who is\",\n",
    "        \"won't\": \"will not\",\n",
    "        \"wouldn't\": \"would not\",\n",
    "        \"you'd\": \"you would\",\n",
    "        \"you'll\": \"you will\",\n",
    "        \"you're\": \"you are\"\n",
    "    }\n",
    "    return contractions;"
   ]
  },
  {
   "cell_type": "code",
   "execution_count": 196,
   "metadata": {},
   "outputs": [],
   "source": [
    "from sklearn.feature_extraction.text import CountVectorizer\n",
    "from sklearn.naive_bayes import BernoulliNB\n",
    "from sklearn.metrics import confusion_matrix\n",
    "\n",
    "import pandas as pd\n",
    "import numpy as np\n",
    "import itertools\n",
    "import matplotlib.pyplot as plt\n",
    "from nltk.tokenize import word_tokenize\n",
    "from pprint import pprint\n",
    "from nltk.corpus import stopwords\n",
    "import sklearn.decomposition\n",
    "import matplotlib.pyplot as plt\n",
    "import itertools\n",
    "import string\n",
    "import re\n",
    "from keras.models import model_from_json\n",
    "from keras.models import load_model\n",
    "import gensim\n",
    "import os\n",
    "import numpy as np\n",
    "from sklearn.utils import resample\n",
    "from tensorflow.python.keras.preprocessing.text import Tokenizer\n",
    "from tensorflow.python.keras.preprocessing.sequence import pad_sequences\n",
    "from nltk.tokenize import word_tokenize\n",
    "from sklearn.utils import class_weight\n",
    "from keras.models import Sequential\n",
    "from keras.layers import Dense, Embedding, LSTM, GRU, GlobalMaxPool1D\n",
    "from keras.layers.embeddings import Embedding\n",
    "from keras.callbacks import EarlyStopping, ModelCheckpoint\n",
    "from keras import optimizers\n",
    "from sklearn.metrics import roc_auc_score\n",
    "from keras.initializers import Constant\n",
    "\n",
    "\n",
    "\n"
   ]
  },
  {
   "cell_type": "code",
   "execution_count": 95,
   "metadata": {},
   "outputs": [],
   "source": [
    "def get_all_data():\n",
    "\t# Load data\n",
    "\tengine = create_engine('mysql://root:@localhost:3306/steam')\n",
    "\t# steam_data_query = \"\"\"SELECT url AS reviewid, content, CAST(recommend AS SIGNED) AS recommend\n",
    "\t#     FROM latest_review\"\"\"\n",
    "\tdata_query = \"\"\"SELECT gameid, url, CAST(recommend AS SIGNED) AS recommend, hours_2w, hours_all, posttime, updatetime, EAG, CAST(compensation AS SIGNED) AS compensation, content, initial_release_date, lang\n",
    "\tFROM latest_review\n",
    "\tWHERE lang = 'en'\n",
    "\tAND (trim(content) != ''\n",
    "\tOR trim(content) != ' '\n",
    "\tOR content IS NOT NULL);\n",
    "\t\"\"\"\n",
    "\tdata = pd.read_sql(data_query, engine)\n",
    "# \tprint(len(data))\n",
    "\treturn data;"
   ]
  },
  {
   "cell_type": "code",
   "execution_count": 96,
   "metadata": {},
   "outputs": [],
   "source": [
    "data = get_all_data()"
   ]
  },
  {
   "cell_type": "code",
   "execution_count": 197,
   "metadata": {},
   "outputs": [],
   "source": [
    "def pre_process(text):\n",
    "\n",
    "    text = text.lower().rstrip('\\n').strip()\n",
    "#     text = text.replace('\\'','')\n",
    "    tokens = word_tokenize(text)\n",
    "#     text_table = str.maketrans('', '', string.punctuation)\n",
    "#     text_stripped = [w.translate(text_table) for w in text_tokens]\n",
    "#     text_words = [word for word in text_stripped if word.isalpha()]\n",
    "    \n",
    "#     stop_words = set(stopwords.words('english'))\n",
    "#     text_words = [w for w in text_words if not w in stop_words]\n",
    "#     text = \" \".join(text_words)\n",
    "    \n",
    "    new_text = []\n",
    "    for word in tokens:\n",
    "        if word in contractions:\n",
    "            new_word = contractions[word]\n",
    "            new_text.append(new_word)\n",
    "        else:\n",
    "            new_text.append(word)\n",
    "    text = \" \".join(new_text)\n",
    "    return text;\n",
    "       \n",
    "    \n",
    "    \n",
    "    "
   ]
  },
  {
   "cell_type": "code",
   "execution_count": 198,
   "metadata": {},
   "outputs": [],
   "source": [
    "data['pre'] = data['content'].map(pre_process)\n"
   ]
  },
  {
   "cell_type": "code",
   "execution_count": 133,
   "metadata": {},
   "outputs": [
    {
     "data": {
      "text/plain": [
       "\"it's subjectively a compilation of mediocre minigames. if you don't have a group of friends to play this with, just avoid it.\""
      ]
     },
     "execution_count": 133,
     "metadata": {},
     "output_type": "execute_result"
    }
   ],
   "source": [
    "data['pre'][0]\n",
    "# data['pre'][0]\n",
    "# X[0]"
   ]
  },
  {
   "cell_type": "code",
   "execution_count": 199,
   "metadata": {},
   "outputs": [
    {
     "data": {
      "text/plain": [
       "1    13251\n",
       "0    13251\n",
       "Name: recommend, dtype: int64"
      ]
     },
     "execution_count": 199,
     "metadata": {},
     "output_type": "execute_result"
    }
   ],
   "source": [
    "df_minority = data[data['recommend'] == 0]\n",
    "\n",
    "df_majority = data[data['recommend'] == 1]\n",
    "df_majority_downsampled = resample(df_majority, replace = False, n_samples = len(df_minority))\n",
    "# print(len(df_majority_downsampled))\n",
    "df_downsampled = pd.concat([df_majority_downsampled, df_minority])\n",
    "\n",
    "df_downsampled = df_downsampled.reset_index(drop = True)\n",
    "df_downsampled['recommend'].value_counts()\n",
    "# len(df_downsampled)\n"
   ]
  },
  {
   "cell_type": "code",
   "execution_count": 209,
   "metadata": {},
   "outputs": [
    {
     "data": {
      "text/plain": [
       "1    40513\n",
       "0    13251\n",
       "Name: recommend, dtype: int64"
      ]
     },
     "execution_count": 209,
     "metadata": {},
     "output_type": "execute_result"
    }
   ],
   "source": [
    "# X = df_downsampled['pre']\n",
    "# y = df_downsampled['recommend']\n",
    "X = data['pre']\n",
    "y = data['recommend']\n",
    "data['recommend'].value_counts()\n",
    "\n",
    "\n",
    "# X_train, X_test, y_train, y_test = train_test_split(X, y, test_size=.2)"
   ]
  },
  {
   "cell_type": "code",
   "execution_count": 212,
   "metadata": {},
   "outputs": [
    {
     "name": "stdout",
     "output_type": "stream",
     "text": [
      "Training on fold 1/5...\n",
      "Training on fold 2/5...\n",
      "Training on fold 3/5...\n",
      "Training on fold 4/5...\n",
      "Training on fold 5/5...\n"
     ]
    }
   ],
   "source": [
    "from sklearn.model_selection import train_test_split\n",
    "from sklearn.metrics import roc_auc_score\n",
    "from sklearn.model_selection import StratifiedShuffleSplit\n",
    "\n",
    "\n",
    "skf = StratifiedShuffleSplit(n_splits = 5, test_size = 0.2)\n",
    "num_folds = skf.get_n_splits(X)\n",
    "\n",
    "\n",
    "train_accs = []\n",
    "test_accs = []\n",
    "auc_accs = []\n",
    "\n",
    "for index, (train_index, test_index) in enumerate(skf.split(X, y)):\n",
    "    counter = str(index + 1)\n",
    "    print(\"Training on fold \" + counter + \"/\" + str(num_folds) + \"...\")\n",
    "\n",
    "    X_train, X_test = X[train_index], X[test_index]\n",
    "    y_train, y_test = y[train_index], y[test_index]\n",
    "    vectorizer = CountVectorizer(binary = 'true')\n",
    "    classifier = training_step(X_train.values, y_train.values, vectorizer)\n",
    "    \n",
    "    train_accs.append(simple_evaluation(X_train.values, y_train.values))\n",
    "    test_accs.append(simple_evaluation(X_test.values, y_test.values))\n",
    "    y_pred = classifier.predict(vectorizer.transform(X_test.values))\n",
    "    auc_accs.append(roc_auc_score(y_test.values, y_pred))\n",
    "    "
   ]
  },
  {
   "cell_type": "code",
   "execution_count": 214,
   "metadata": {},
   "outputs": [
    {
     "name": "stdout",
     "output_type": "stream",
     "text": [
      "47.15072888330892\n",
      "47.1832786961475\n",
      "46.212219845624475\n",
      "45.894169069096996\n",
      "0.5075249697875699\n",
      "0.5074208248051618\n"
     ]
    }
   ],
   "source": [
    "import numpy as np\n",
    "print(np.mean(train_accs))\n",
    "print(np.median(train_accs))\n",
    "\n",
    "print(np.mean(test_accs))\n",
    "print(np.median(test_accs))\n",
    "\n",
    "print(np.mean(auc_accs))\n",
    "print(np.median(auc_accs))"
   ]
  },
  {
   "cell_type": "code",
   "execution_count": 210,
   "metadata": {},
   "outputs": [],
   "source": [
    "# !pip3 install imblearn\n",
    "from imblearn.combine import SMOTETomek\n",
    "\n",
    "def training_step(X, y, vectorizer):\n",
    "    \n",
    "    X = vectorizer.fit_transform(X)\n",
    "    \n",
    "    smote = SMOTETomek(ratio = 'auto')\n",
    "    X_sm, y_sm = smote.fit_sample(X, y)\n",
    "#     smote = SMOTE(ratio = 'minority')\n",
    "#     X_sm\n",
    "\n",
    "#     training_text = [X for data in data]\n",
    "#     training_result = [y for data in data]\n",
    "#     print(training_text)\n",
    "    \n",
    "\n",
    "    return BernoulliNB().fit(X_sm, y_sm)\n",
    "\n"
   ]
  },
  {
   "cell_type": "code",
   "execution_count": 189,
   "metadata": {},
   "outputs": [],
   "source": [
    "\n",
    "# print(X_train.values)\n",
    "# print(y_train.values)\n",
    "classifier = training_step(X_train.values, y_train.values, vectorizer)\n"
   ]
  },
  {
   "cell_type": "code",
   "execution_count": 190,
   "metadata": {},
   "outputs": [],
   "source": [
    "# result = classifier.predict(vectorizer.transform([\"this is the best game\"]))\n",
    "# print(len(X))\n",
    "def analyze_text(classifier, vectorizer, text):\n",
    "    return text, classifier.predict(vectorizer.transform([text]))\n",
    "\n",
    "def print_result(result):\n",
    "    text, analysis_result = result\n",
    "    print_text = \"Positive\" if str(analysis_result[0]) == '1' else \"Negative\"\n",
    "    print(text, \":\", print_text)\n",
    "# print_result(analyze_text(classifier, vectorizer, \"Worst movie ever\"))\n",
    "\n"
   ]
  },
  {
   "cell_type": "code",
   "execution_count": 194,
   "metadata": {},
   "outputs": [
    {
     "data": {
      "text/plain": [
       "64.49726466704395"
      ]
     },
     "execution_count": 194,
     "metadata": {},
     "output_type": "execute_result"
    }
   ],
   "source": [
    "def simple_evaluation(X_test, y_test):\n",
    "    evaluation_text     = X_test\n",
    "    evaluation_result   = y_test\n",
    "\n",
    "    total = len(evaluation_text)\n",
    "    corrects = 0\n",
    "    for index in range(0, total):\n",
    "        analysis_result = analyse_text(classifier, vectorizer, evaluation_text[index])\n",
    "        text, result = analysis_result\n",
    "        corrects += 1 if result[0] == evaluation_result[index] else 0\n",
    "\n",
    "    return corrects * 100 / total\n",
    "\n"
   ]
  },
  {
   "cell_type": "code",
   "execution_count": 193,
   "metadata": {},
   "outputs": [
    {
     "name": "stdout",
     "output_type": "stream",
     "text": [
      "0.6464017834137398\n"
     ]
    }
   ],
   "source": [
    "\n",
    "print(roc)"
   ]
  },
  {
   "cell_type": "code",
   "execution_count": null,
   "metadata": {},
   "outputs": [],
   "source": [
    "classifier.classes_"
   ]
  },
  {
   "cell_type": "code",
   "execution_count": null,
   "metadata": {},
   "outputs": [],
   "source": [
    "y_pred = "
   ]
  }
 ],
 "metadata": {
  "kernelspec": {
   "display_name": "Python 3",
   "language": "python",
   "name": "python3"
  },
  "language_info": {
   "codemirror_mode": {
    "name": "ipython",
    "version": 3
   },
   "file_extension": ".py",
   "mimetype": "text/x-python",
   "name": "python",
   "nbconvert_exporter": "python",
   "pygments_lexer": "ipython3",
   "version": "3.6.5"
  }
 },
 "nbformat": 4,
 "nbformat_minor": 2
}
